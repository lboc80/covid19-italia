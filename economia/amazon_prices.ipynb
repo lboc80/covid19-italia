{
 "cells": [
  {
   "cell_type": "code",
   "execution_count": 1,
   "metadata": {},
   "outputs": [],
   "source": [
    "import pandas as pd \n",
    "import os\n",
    "from dotenv import load_dotenv\n",
    "load_dotenv()\n",
    "import keepa\n",
    "import time\n",
    "\n",
    "KEY = os.getenv('KEY')\n",
    "amazonlist = pd.read_csv(\"amazonlist.csv\")\n",
    "api = keepa.Keepa(KEY)\n",
    "df_list = []"
   ]
  },
  {
   "cell_type": "code",
   "execution_count": 7,
   "metadata": {},
   "outputs": [
    {
     "output_type": "stream",
     "name": "stdout",
     "text": "0 B086773D9D\n1 B0863CX8YX\n2 B085Y8JQ64\n3 B086BSL52H\n4 B086GS9CY6\n5 B086GVPH6J\n6 B0863WNB94\n7 B086GPFW92\n8 B087BGZ62L\n9 B087124LVH\n10 B086GMY5XK\n11 B08733G5C6\n12 B087BT5X59\n13 B0864317KM\n14 B084VCHD3F\n15 B00YUETVC0\n16 B085XKJZGF\n17 B086KVMJRB\n18 B0867KFJMF\n19 B086V645DV\n20 B084C1513X\n21 B087N3G2L6\n22 B0867DBFP2\n23 B086HPFMNC\n24 B087C7K4NR\n25 B086WHDPT3\n"
    }
   ],
   "source": [
    "for i in range(0, len(amazonlist)):\n",
    "    product_det = amazonlist.iloc[i]\n",
    "    #print(product_det)\n",
    "    print(str(i) + \" \" + product_det.asin)\n",
    "    products = api.query(product_det.asin, domain=\"IT\", progress_bar=False, offers=40)\n",
    "    product = products[0]\n",
    "    df_list.append(pd.DataFrame({'asin':product_det.asin, \n",
    "                'categoria': product_det.categoria,\n",
    "                'quantita': product_det.quantita,\n",
    "                'date':list(product['data']['BUY_BOX_SHIPPING_time']),\n",
    "                'price':list(product['data']['BUY_BOX_SHIPPING'])}))\n",
    "    #time.sleep(2) #limit 25 requests per minute"
   ]
  },
  {
   "cell_type": "code",
   "execution_count": 8,
   "metadata": {},
   "outputs": [],
   "source": [
    "data = pd.concat(df_list)\n",
    "data['unit_price'] = round(data['price']/data['quantita'], 2)\n",
    "data.to_csv('amazon_prices.csv')"
   ]
  }
 ],
 "metadata": {
  "language_info": {
   "codemirror_mode": {
    "name": "ipython",
    "version": 3
   },
   "file_extension": ".py",
   "mimetype": "text/x-python",
   "name": "python",
   "nbconvert_exporter": "python",
   "pygments_lexer": "ipython3",
   "version": "3.6.10-final"
  },
  "orig_nbformat": 2,
  "kernelspec": {
   "name": "python361064bitspotifyconda159a798d7347496e89fb791e4e762a47",
   "display_name": "Python 3.6.10 64-bit ('spotify': conda)"
  }
 },
 "nbformat": 4,
 "nbformat_minor": 2
}