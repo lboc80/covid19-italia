{
 "cells": [
  {
   "cell_type": "code",
   "execution_count": 8,
   "metadata": {},
   "outputs": [],
   "source": [
    "import numpy as np\n",
    "from scipy.integrate import odeint\n",
    "import matplotlib.pyplot as plt\n",
    "import pandas as pd\n",
    "from scipy.optimize import minimize\n",
    "import geopandas as gpd\n"
   ]
  },
  {
   "cell_type": "markdown",
   "metadata": {},
   "source": [
    "### Definition of the model"
   ]
  },
  {
   "cell_type": "code",
   "execution_count": 9,
   "metadata": {},
   "outputs": [],
   "source": [
    "# The SIR model differential equations.\n",
    "def deriv(y, t, N, beta,gamma):\n",
    "    S,I,R = y\n",
    "\n",
    "    dSdt = -(beta*I/N)*S \n",
    "    dIdt = (beta*S/N)*I - gamma*I \n",
    "    dRdt = gamma*I \n",
    "    \n",
    "    return dSdt, dIdt, dRdt"
   ]
  },
  {
   "cell_type": "markdown",
   "metadata": {},
   "source": [
    "### Integration of the differential equations"
   ]
  },
  {
   "cell_type": "code",
   "execution_count": 10,
   "metadata": {},
   "outputs": [],
   "source": [
    "def time_evo(N,beta,gamma,I0=1,R0=0,t=np.arange(0,365)):\n",
    "    # Definition of the initial conditions\n",
    "    # I0 and R0 denotes the number of initial infected people (I0) \n",
    "    # and the number of people that recovered and are immunized (R0)\n",
    "    \n",
    "    # t ise the timegrid\n",
    "    \n",
    "    S0=N-I0-R0  # number of people that can still contract the virus\n",
    "    \n",
    "    # Initial conditions vector\n",
    "    y0 = S0, I0, R0\n",
    "\n",
    "    # Integrate the SIR equations over the time grid, t.\n",
    "    ret = odeint(deriv, y0, t, args=(N,beta,gamma))\n",
    "    S, I, R = np.transpose(ret)\n",
    "    \n",
    "    return (t,S,I,R)"
   ]
  },
  {
   "cell_type": "markdown",
   "metadata": {},
   "source": [
    "# All-in-one"
   ]
  },
  {
   "cell_type": "code",
   "execution_count": 11,
   "metadata": {},
   "outputs": [
    {
     "output_type": "stream",
     "name": "stdout",
     "text": "r0_ideal for the Abruzzo:  1.0\nydata_inf.shape Abruzzo:  (63,)\nydata_inf for the Abruzzo:  [   0    0    0    1    1    2    5    5    6    7    8    9   11   17\n   30   37   37   78   83  106  128  165  216  249  366  422  494  539\n  605  622  738  860  925 1027 1169 1169 1191 1211 1251 1301 1356 1420\n 1425 1491 1534 1566 1635 1724 1742 1778 1800 1810 1850 1942 1971 1987\n 2062 2067 2108 2100 2079 2061 2068]\nydata_inf_2 for the Abruzzo:  [2108 2100 2079 2061 2068]\nr0_ideal for the Basilicata:  1.0\nydata_inf.shape Basilicata:  (63,)\nydata_inf for the Basilicata:  [  0   0   0   0   0   0   0   0   1   1   1   3   3   4   5   7   8   8\n  10  10  11  12  20  27  37  52  66  81  89  91 112 133 147 178 197 208\n 216 225 233 247 244 254 262 265 270 275 279 281 277 270 265 261 273 266\n 262 247 242 245 232 229 229 218 219]\nydata_inf_2 for the Basilicata:  [232 229 229 218 219]\nr0_ideal for the P.A. Bolzano:  1.0\nydata_inf.shape P.A. Bolzano:  (63,)\nydata_inf for the P.A. Bolzano:  [   0    1    1    1    1    1    1    1    1    1    1    4    9    9\n    9   38   75  103  123  170  199  235  282  366  421  530  600  648\n  688  699  748  791  833  929 1034 1098 1142 1112 1160 1209 1201 1226\n 1260 1301 1281 1315 1317 1269 1515 1537 1564 1576 1593 1582 1556 1566\n 1540 1536 1512 1494 1093 1035  994]\nydata_inf_2 for the P.A. Bolzano:  [1512 1494 1093 1035  994]\nr0_ideal for the Calabria:  1.0\nydata_inf.shape Calabria:  (63,)\nydata_inf for the Calabria:  [  0   0   0   0   1   1   1   1   1   1   2   4   4   9   9  11  17  32\n  37  59  66  87 112 126 164 201 225 260 280 304 333 372 469 523 577 602\n 606 610 627 662 662 706 722 733 755 765 786 792 795 791 816 819 847 819\n 832 844 828 819 821 823 821 811 797]\nydata_inf_2 for the Calabria:  [821 823 821 811 797]\nr0_ideal for the Campania:  1.0\nydata_inf.shape Campania:  (63,)\nydata_inf for the Campania:  [   0    0    0    3    4   13   17   17   30   31   45   57   61  100\n  119  126  149  174  213  243  296  363  423  423  605  702  793  866\n  929  992 1072 1169 1292 1407 1556 1739 1871 1976 2140 2352 2496 2621\n 2698 2765 2859 2873 2963 3002 3057 3062 3094 3087 3118 3027 3045 3022\n 3019 2946 2998 2978 2943 2935 2924]\nydata_inf_2 for the Campania:  [2998 2978 2943 2935 2924]\nr0_ideal for the Emilia-Romagna:  1.0\nydata_inf.shape Emilia-Romagna:  (63,)\nydata_inf for the Emilia-Romagna:  [   18    26    46    96   143   213   277   324   398   516   658   816\n   937  1097  1286  1417  1588  1758  2011  2349  2741  3088  3404  3915\n  4506  5089  5661  6390  7220  7711  8256  8850  9361  9964 10535 10766\n 10953 11489 11859 12178 12523 12837 13051 13048 13110 13258 13350 13495\n 13672 13818 13778 13577 13663 13585 13584 13552 13522 13244 13084 12845\n 12509 12347 12341]\nydata_inf_2 for the Emilia-Romagna:  [13084 12845 12509 12347 12341]\nr0_ideal for the Friuli Venezia Giulia:  1.0\nydata_inf.shape Friuli Venezia Giulia:  (63,)\nydata_inf for the Friuli Venezia Giulia:  [   0    0    0    0    0    0    6    9   13   18   21   28   39   53\n   89  110  110  148  236  271  316  346  347  416  522  555  666  738\n  771  848  911  954 1027 1120 1141 1109 1160 1206 1294 1324 1336 1363\n 1396 1379 1415 1390 1398 1382 1326 1307  899 1394 1330 1428 1403 1337\n 1190 1322 1308 1135 1320 1084 1248]\nydata_inf_2 for the Friuli Venezia Giulia:  [1308 1135 1320 1084 1248]\nr0_ideal for the Lazio:  1.06\nydata_inf.shape Lazio:  (63,)\nydata_inf for the Lazio:  [   2    2    0    0    0    3    3    4   11   27   41   50   72   81\n   94   99  125  172  242  320  396  472  550  650  741  912 1086 1272\n 1414 1545 1675 1835 2013 2181 2362 2497 2642 2758 2879 3009 3106 3186\n 3300 3365 3448 3532 3633 3730 3817 3920 4022 4047 4144 4214 4282 4321\n 4365 4402 4463 4486 4492 4561 4573]\nydata_inf_2 for the Lazio:  [4463 4486 4492 4561 4573]\nr0_ideal for the Liguria:  1.0\nydata_inf.shape Liguria:  (63,)\nydata_inf for the Liguria:  [   0    1   11   19   19   38   21   18   19   21   21   24   42   67\n   97  128  181  243  304  384  493  575  661  744  883 1001 1159 1351\n 1553 1692 1826 2027 2060 2086 2279 2383 2508 2645 2660 2746 2894 3093\n 3117 3212 3245 3253 3301 3333 3333 3365 3466 3464 3437 3459 3412 3490\n 3496 3463 3476 3466 3437 3433 3480]\nydata_inf_2 for the Liguria:  [3476 3466 3437 3433 3480]\nr0_ideal for the Lombardia:  1.03\nydata_inf.shape Lombardia:  (63,)\nydata_inf for the Lombardia:  [  166   231   249   349   474   552   887  1077  1326  1497  1777  2008\n  2742  3372  4490  4427  5763  6896  7732  9059 10043 10861 12095 12266\n 13938 15420 17370 17885 18910 19868 20591 22189 23895 24509 25392 25006\n 25124 25765 25876 26189 27220 28124 28469 28343 28545 29074 29530 30258\n 31265 31935 32363 32921 33090 33434 34195 34497 34587 33978 34242 33873\n 34368 34473 35166]\nydata_inf_2 for the Lombardia:  [34242 33873 34368 34473 35166]\nr0_ideal for the Marche:  1.06\nydata_inf.shape Marche:  (63,)\nydata_inf for the Marche:  [   0    0    1    3    6   11   25   34   59   80  120  155  201  265\n  313  381  461  570  698  863 1087 1185 1302 1476 1622 1844 1997 2231\n 2358 2497 2639 2795 2850 2999 3160 3251 3352 3456 3555 3631 3497 3578\n 3706 3738 3562 3401 3316 3231 3114 3080 3095 3097 3124 3157 3172 3182\n 3212 3218 3230 3230 3273 3272 3308]\nydata_inf_2 for the Marche:  [3230 3230 3273 3272 3308]\nr0_ideal for the Molise:  1.0\nydata_inf.shape Molise:  (63,)\nydata_inf for the Molise:  [  0   0   0   0   0   0   0   0   3   3   7  12  14  14  14  15  16  16\n  17  17  17  15  19  21  38  39  47  52  50  55  53  81  86  98 100 107\n 117 131 133 144 171 187 187 185 181 189 193 193 202 202 200 206 203 208\n 209 215 213 213 205 198 200 198 200]\nydata_inf_2 for the Molise:  [205 198 200 198 200]\nr0_ideal for the Piemonte:  1.07\nydata_inf.shape Piemonte:  (63,)\nydata_inf for the Piemonte:  [    3     3     3     2    11    11    49    51    56    82   106   139\n   202   355   337   436   480   554   794   814  1030  1405  1764  2187\n  2754  3244  3506  4127  4529  5124  5556  5950  6347  6851  7268  7655\n  8082  8470  8799  9130  9693 10177 10545 10704 10989 11336 11576 12170\n 12505 12765 13055 13195 13783 13998 14223 14470 14557 14811 15122 15152\n 15391 15502 15519]\nydata_inf_2 for the Piemonte:  [15122 15152 15391 15502 15519]\nr0_ideal for the Puglia:  1.06\nydata_inf.shape Puglia:  (63,)\nydata_inf for the Puglia:  [   0    0    0    1    3    3    3    4    6    7   12   15   23   36\n   46   55   71   98  121  156  212  212  320  362  449  551  642  748\n  862  940 1023 1095 1236 1358 1432 1585 1654 1756 1864 1949 1973 2022\n 2115 2137 2238 2301 2336 2402 2452 2512 2552 2573 2625 2656 2694 2786\n 2810 2812 2874 2936 2933 2919 2937]\nydata_inf_2 for the Puglia:  [2874 2936 2933 2919 2937]\nr0_ideal for the Sardegna:  1.0\nydata_inf.shape Sardegna:  (63,)\nydata_inf for the Sardegna:  [  0   0   0   0   0   0   0   0   1   2   2   5   5  11  19  20  37  39\n  43  47  75 105 115 132 204 288 321 327 343 395 412 462 496 569 582 622\n 657 675 718 744 789 815 819 821 840 876 876 888 903 914 900 870 865 872\n 881 864 854 837 833 817 804 794 783]\nydata_inf_2 for the Sardegna:  [833 817 804 794 783]\nr0_ideal for the Sicilia:  1.0\nydata_inf.shape Sicilia:  (63,)\nydata_inf for the Sicilia:  [   0    3    3    2    2    2    7    5    5   16   16   22   33   51\n   52   60   81  111  126  150  179  203  226  267  321  379  458  596\n  681  799  936 1095 1158 1242 1330 1408 1492 1544 1606 1664 1726 1774\n 1815 1859 1893 1942 1967 2001 2030 2050 2071 2081 2108 2139 2171 2202\n 2210 2259 2287 2301 2320 2272 2107]\nydata_inf_2 for the Sicilia:  [2287 2301 2320 2272 2107]\nr0_ideal for the Toscana:  1.0\nydata_inf.shape Toscana:  (63,)\nydata_inf for the Toscana:  [   0    2    2    2    7   10   12   12   18   37   60   78  112  165\n  206  260  314  352  455  614  763  841 1024 1291 1422 1713 1905 2144\n 2301 2519 2776 2973 3170 3511 3786 4050 4226 4432 4789 4909 5054 5185\n 5301 5427 5557 5703 5822 5992 6162 6257 6352 6417 6613 6583 6470 6496\n 6568 6622 6167 6171 6133 6146 6069]\nydata_inf_2 for the Toscana:  [6167 6171 6133 6146 6069]\nr0_ideal for the P.A. Trento:  1.0\nydata_inf.shape P.A. Trento:  (63,)\nydata_inf for the P.A. Trento:  [   0    0    0    0    0    0    0    0    4    5    7   10   14   23\n   33   50   74  102  157  199  367  367  368  436  491  600  720  885\n  914  975 1058 1094 1164 1234 1293 1357 1389 1483 1587 1659 1753 1795\n 1838 1890 1940 1978 1994 2064 2082 2080 2082 2104 2087 1990 1985 1971\n 1929 1909 1874 1871 1827 1744 1682]\nydata_inf_2 for the P.A. Trento:  [1874 1871 1827 1744 1682]\nr0_ideal for the Umbria:  1.0\nydata_inf.shape Umbria:  (63,)\nydata_inf for the Umbria:  [  0   0   0   0   0   0   2   2   8   9   9  16  24  26  28  37  44  62\n  73 103 139 159 192 241 328 384 447 500 556 624 686 770 824 898 897 834\n 851 864 885 920 927 898 872 846 823 792 752 723 687 625 622 582 536 494\n 431 436 424 407 371 355 322 297 296]\nydata_inf_2 for the Umbria:  [371 355 322 297 296]\nr0_ideal for the Valle d'Aosta:  1.0\nydata_inf.shape Valle d'Aosta:  (63,)\nydata_inf for the Valle d'Aosta:  [  0   0   0   0   0   0   0   0   0   0   2   7   8   9  15  17  19  26\n  27  41  56 103 134 162 209 257 304 354 379 379 375 378 413 468 539 518\n 552 540 556 560 560 576 567 593 606 609 602 590 588 582 559 548 518 491\n 549 562 548 522 501 463 354 313 254]\nydata_inf_2 for the Valle d'Aosta:  [501 463 354 313 254]\nr0_ideal for the Veneto:  1.0\nydata_inf.shape Veneto:  (63,)\nydata_inf for the Veneto:  [   32    42    69   109   149   189   261   271   297   345   380   454\n   505   623   694   783   940  1297  1453  1775  1989  2274  2488  2953\n  3169  3677  4214  4644  4986  5351  5745  6140  6648  6913  7251  7564\n  7850  8224  8578  8861  9093  9409  9722  9965 10171 10449 10647 10749\n 10729 10766 10736 10789 10800 10618 10444 10210 10061 10077  9991  9925\n  9679  9432  9138]\nydata_inf_2 for the Veneto:  [9991 9925 9679 9432 9138]\n"
    }
   ],
   "source": [
    "popolation_regions = np.array([  1304970,      559084,        533050,   1947131,   5801692,         4459477,                1215220,5879082, 1550640,    10060574,  1525271,  305617,    4356406, 4029053, 1639591,  4999891,  3729641,       541380,  882015,          125666, 4905854])\n",
    "name_regions       = np.array(['Abruzzo','Basilicata','P.A. Bolzano','Calabria','Campania','Emilia-Romagna','Friuli Venezia Giulia','Lazio','Liguria','Lombardia','Marche','Molise','Piemonte','Puglia','Sardegna','Sicilia','Toscana','P.A. Trento','Umbria','Valle d\\'Aosta','Veneto'])\n",
    "     \n",
    "data = pd.read_csv('https://raw.githubusercontent.com/pcm-dpc/COVID-19/master/dati-regioni/dpc-covid19-ita-regioni.csv')\n",
    "\n",
    "df_r0=pd.DataFrame(data['data'].tail(1))\n",
    "\n",
    "for region in name_regions:\n",
    "    N = popolation_regions[name_regions == region]\n",
    "    ydata       = np.array(data.loc[data['denominazione_regione'] == region, \"totale_casi\"])\n",
    "    ydata_death = np.array(data.loc[data['denominazione_regione'] == region, \"deceduti\"])\n",
    "    ydata_rec   = np.array(data.loc[data['denominazione_regione'] == region, \"dimessi_guariti\"])\n",
    "    ydata_inf   = ydata-ydata_rec-ydata_death\n",
    "    xdata       = pd.to_numeric(range(ydata.shape[0]))\n",
    "    today       = len(xdata)\n",
    "\n",
    "    def minimizer(R0,t1=today-5,t2=today):\n",
    "    \n",
    "        #true data\n",
    "        ydata_inf_2=np.array(ydata_inf[t1:t2])\n",
    "        xdata_2=np.arange(0,len(ydata_inf_2))\n",
    "\n",
    "        #model\n",
    "        fin_result=time_evo(N,0.1*R0,0.1,I0=ydata_inf_2[0])\n",
    "        i_vec=fin_result[2]\n",
    "        i_vec_2=i_vec[0:len(xdata_2)]\n",
    "\n",
    "        #average error\n",
    "        error=np.sum(np.abs(ydata_inf_2-i_vec_2)/ydata_inf_2)*100\n",
    "\n",
    "        return error\n",
    "\n",
    "    minimizer_vec=np.vectorize(minimizer)\n",
    "\n",
    "    xgrid    = np.arange(1,1.3,0.01)\n",
    "    ygrid    = minimizer_vec(xgrid)\n",
    "    r0_ideal = round(xgrid[np.argmin(ygrid)],2)\n",
    "    print('r0_ideal for the '+region+': ',r0_ideal)\n",
    "\n",
    "    ydata_inf_2 = np.array(ydata_inf[today-5:today])\n",
    "    xdata_2     = np.arange(0,len(ydata_inf_2))\n",
    "    print('ydata_inf.shape '+region+': ',ydata_inf.shape)\n",
    "    print('ydata_inf for the '+region+': ',ydata_inf)\n",
    "    print('ydata_inf_2 for the '+region+': ',ydata_inf_2)\n",
    "\n",
    "    fin_result  = time_evo(N,0.1*r0_ideal,0.1,I0=ydata_inf_2[0])\n",
    "\n",
    "    t=fin_result[0]\n",
    "    s_vec=fin_result[1]\n",
    "    i_vec=fin_result[2]\n",
    "    r_vec=fin_result[3]\n",
    "    \n",
    "    \n",
    "    def minimizer_gen(t1,t2):\n",
    "\n",
    "        xgrid=np.arange(0.1,7.2,0.01)\n",
    "        ygrid=minimizer_vec(xgrid,t1=t1,t2=t2)\n",
    "        r0_ideal=round(xgrid[np.argmin(ygrid)],2)\n",
    "\n",
    "        return r0_ideal  \n",
    "    \n",
    "    r0_time=[]\n",
    "    \n",
    "  #  for i in range(today-4):\n",
    "  #      min_val=minimizer_gen(i,i+5)\n",
    "   #     r0_time.append(min_val)\n",
    "   #     print(i,min_val)\n",
    "\n",
    "    min_val=minimizer_gen(today-7,today)\n",
    " \n",
    "\n",
    "    df_r0[region]   = min_val\n",
    "    r0_time.clear()\n",
    "\n"
   ]
  },
  {
   "cell_type": "code",
   "execution_count": 12,
   "metadata": {},
   "outputs": [],
   "source": [
    "df = df_r0.T\n",
    "df['description'] = df.index\n",
    "df.rename(columns={ df.columns[0]: \"R0\" }, inplace = True)\n",
    "df = df.iloc[1:]\n",
    "df_row = pd.DataFrame([{\"description\": \"Trentino\", \"R0\":1}])\n",
    "df = pd.concat([df, df_row], ignore_index=True)\n",
    "df['description'][df.description == \"Friuli Venezia Giulia\"] = \"Friuli-Venezia Giulia\"\n",
    "trentino = round(float((sum(df.R0[df.description == \"P.A. Trento\"], df.R0[df.description == \"P.A. Bolzano\"])/2)), 2)\n",
    "row_df = pd.DataFrame([{'R0':trentino, \"description\":\"Trentino-Alto Adige\"}])\n",
    "df = pd.concat([df, row_df], ignore_index=True)"
   ]
  },
  {
   "cell_type": "code",
   "execution_count": 13,
   "metadata": {},
   "outputs": [],
   "source": [
    "map = gpd.read_file(\"regioni_italiane.geojson\")\n",
    "map = map.merge(df, on='description', how='left')\n",
    "map.to_file(\"export/r0_regioni.geojson\", driver='GeoJSON')\n",
    "classificazione = pd.read_excel('classificazione_regioni.xlsx')\n",
    "map = map.merge(classificazione, on='description', how='left')\n",
    "map[[\"description\", \"R0\", \"Area\"]].to_csv(\"export/r0_regioni.csv\")"
   ]
  },
  {
   "cell_type": "code",
   "execution_count": 14,
   "metadata": {},
   "outputs": [
    {
     "output_type": "execute_result",
     "data": {
      "text/plain": "      R0            description\n0   1.01                Abruzzo\n1   0.83             Basilicata\n2   0.27           P.A. Bolzano\n3   0.96               Calabria\n4   0.95               Campania\n5   0.83         Emilia-Romagna\n6   1.08  Friuli-Venezia Giulia\n7   1.08                  Lazio\n8   0.97                Liguria\n9   0.99              Lombardia\n10  1.04                 Marche\n11  0.85                 Molise\n12  1.13               Piemonte\n13  1.08                 Puglia\n14  0.85               Sardegna\n15  1.06                Sicilia\n16  0.87                Toscana\n17  0.81            P.A. Trento\n18  0.33                 Umbria\n19   0.1          Valle d'Aosta\n20  0.88                 Veneto\n21     1               Trentino\n22  0.54    Trentino-Alto Adige",
      "text/html": "<div>\n<style scoped>\n    .dataframe tbody tr th:only-of-type {\n        vertical-align: middle;\n    }\n\n    .dataframe tbody tr th {\n        vertical-align: top;\n    }\n\n    .dataframe thead th {\n        text-align: right;\n    }\n</style>\n<table border=\"1\" class=\"dataframe\">\n  <thead>\n    <tr style=\"text-align: right;\">\n      <th></th>\n      <th>R0</th>\n      <th>description</th>\n    </tr>\n  </thead>\n  <tbody>\n    <tr>\n      <th>0</th>\n      <td>1.01</td>\n      <td>Abruzzo</td>\n    </tr>\n    <tr>\n      <th>1</th>\n      <td>0.83</td>\n      <td>Basilicata</td>\n    </tr>\n    <tr>\n      <th>2</th>\n      <td>0.27</td>\n      <td>P.A. Bolzano</td>\n    </tr>\n    <tr>\n      <th>3</th>\n      <td>0.96</td>\n      <td>Calabria</td>\n    </tr>\n    <tr>\n      <th>4</th>\n      <td>0.95</td>\n      <td>Campania</td>\n    </tr>\n    <tr>\n      <th>5</th>\n      <td>0.83</td>\n      <td>Emilia-Romagna</td>\n    </tr>\n    <tr>\n      <th>6</th>\n      <td>1.08</td>\n      <td>Friuli-Venezia Giulia</td>\n    </tr>\n    <tr>\n      <th>7</th>\n      <td>1.08</td>\n      <td>Lazio</td>\n    </tr>\n    <tr>\n      <th>8</th>\n      <td>0.97</td>\n      <td>Liguria</td>\n    </tr>\n    <tr>\n      <th>9</th>\n      <td>0.99</td>\n      <td>Lombardia</td>\n    </tr>\n    <tr>\n      <th>10</th>\n      <td>1.04</td>\n      <td>Marche</td>\n    </tr>\n    <tr>\n      <th>11</th>\n      <td>0.85</td>\n      <td>Molise</td>\n    </tr>\n    <tr>\n      <th>12</th>\n      <td>1.13</td>\n      <td>Piemonte</td>\n    </tr>\n    <tr>\n      <th>13</th>\n      <td>1.08</td>\n      <td>Puglia</td>\n    </tr>\n    <tr>\n      <th>14</th>\n      <td>0.85</td>\n      <td>Sardegna</td>\n    </tr>\n    <tr>\n      <th>15</th>\n      <td>1.06</td>\n      <td>Sicilia</td>\n    </tr>\n    <tr>\n      <th>16</th>\n      <td>0.87</td>\n      <td>Toscana</td>\n    </tr>\n    <tr>\n      <th>17</th>\n      <td>0.81</td>\n      <td>P.A. Trento</td>\n    </tr>\n    <tr>\n      <th>18</th>\n      <td>0.33</td>\n      <td>Umbria</td>\n    </tr>\n    <tr>\n      <th>19</th>\n      <td>0.1</td>\n      <td>Valle d'Aosta</td>\n    </tr>\n    <tr>\n      <th>20</th>\n      <td>0.88</td>\n      <td>Veneto</td>\n    </tr>\n    <tr>\n      <th>21</th>\n      <td>1</td>\n      <td>Trentino</td>\n    </tr>\n    <tr>\n      <th>22</th>\n      <td>0.54</td>\n      <td>Trentino-Alto Adige</td>\n    </tr>\n  </tbody>\n</table>\n</div>"
     },
     "metadata": {},
     "execution_count": 14
    }
   ],
   "source": [
    "df"
   ]
  },
  {
   "cell_type": "code",
   "execution_count": null,
   "metadata": {},
   "outputs": [],
   "source": []
  }
 ],
 "metadata": {
  "kernelspec": {
   "display_name": "Python 3.6.10 64-bit ('spotify': conda)",
   "language": "python",
   "name": "python361064bitspotifyconda159a798d7347496e89fb791e4e762a47"
  },
  "language_info": {
   "codemirror_mode": {
    "name": "ipython",
    "version": 3
   },
   "file_extension": ".py",
   "mimetype": "text/x-python",
   "name": "python",
   "nbconvert_exporter": "python",
   "pygments_lexer": "ipython3",
   "version": "3.6.10-final"
  }
 },
 "nbformat": 4,
 "nbformat_minor": 2
}